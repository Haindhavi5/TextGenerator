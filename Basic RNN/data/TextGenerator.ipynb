{
 "cells": [
  {
   "cell_type": "code",
   "execution_count": 1,
   "metadata": {},
   "outputs": [
    {
     "name": "stderr",
     "output_type": "stream",
     "text": [
      "Using TensorFlow backend.\n"
     ]
    }
   ],
   "source": [
    "import numpy\n",
    "from keras.models import Sequential\n",
    "from keras.layers import Dense\n",
    "from keras.layers import Dropout\n",
    "from keras.layers import LSTM\n",
    "from keras.callbacks import ModelCheckpoint\n",
    "from keras.utils import np_utils\n"
   ]
  },
  {
   "cell_type": "code",
   "execution_count": 3,
   "metadata": {},
   "outputs": [],
   "source": [
    "\n",
    "filename = \"C:/Users/hp/Desktop/Basic RNN/wonder.txt\"\n",
    "raw_text = open(filename, 'r', encoding='utf-8').read()\n",
    "raw_text = raw_text.lower()"
   ]
  },
  {
   "cell_type": "code",
   "execution_count": 4,
   "metadata": {},
   "outputs": [],
   "source": [
    "chars = sorted(list(set(raw_text)))\n",
    "char_to_int = dict((c, i) for i, c in enumerate(chars))"
   ]
  },
  {
   "cell_type": "code",
   "execution_count": 7,
   "metadata": {},
   "outputs": [
    {
     "name": "stdout",
     "output_type": "stream",
     "text": [
      "Total Characters:  163419\n",
      "Total Vocab:  58\n"
     ]
    }
   ],
   "source": [
    "n_chars = len(raw_text)\n",
    "n_vocab = len(chars)\n",
    "print(\"Total Characters: \", n_chars)\n",
    "print(\"Total Vocab: \", n_vocab)"
   ]
  },
  {
   "cell_type": "code",
   "execution_count": 9,
   "metadata": {},
   "outputs": [
    {
     "name": "stdout",
     "output_type": "stream",
     "text": [
      "Total Patterns:  163319\n"
     ]
    }
   ],
   "source": [
    "\n",
    "# prepare the dataset of input to output pairs encoded as integers\n",
    "seq_length = 100\n",
    "dataX = []\n",
    "dataY = []\n",
    "for i in range(0, n_chars - seq_length, 1):\n",
    "\tseq_in = raw_text[i:i + seq_length]\n",
    "\tseq_out = raw_text[i + seq_length]\n",
    "\tdataX.append([char_to_int[char] for char in seq_in])\n",
    "\tdataY.append(char_to_int[seq_out])\n",
    "n_patterns = len(dataX)\n",
    "print(\"Total Patterns: \", n_patterns)"
   ]
  },
  {
   "cell_type": "code",
   "execution_count": 10,
   "metadata": {},
   "outputs": [],
   "source": [
    "\n",
    "# reshape X to be [samples, time steps, features]\n",
    "X = numpy.reshape(dataX, (n_patterns, seq_length, 1))\n",
    "# normalize\n",
    "X = X / float(n_vocab)\n",
    "# one hot encode the output variable\n",
    "y = np_utils.to_categorical(dataY)"
   ]
  },
  {
   "cell_type": "code",
   "execution_count": 11,
   "metadata": {},
   "outputs": [],
   "source": [
    "# define the LSTM model\n",
    "model = Sequential()\n",
    "model.add(LSTM(256, input_shape=(X.shape[1], X.shape[2])))\n",
    "model.add(Dropout(0.2))\n",
    "model.add(Dense(y.shape[1], activation='softmax'))\n",
    "model.compile(loss='categorical_crossentropy', optimizer='adam')"
   ]
  },
  {
   "cell_type": "code",
   "execution_count": 12,
   "metadata": {},
   "outputs": [],
   "source": [
    "filepath=\"C:/Users/hp/Desktop/Basic RNN/weights-improvement-{epoch:02d}-{loss:.4f}.hdf5\"\n",
    "checkpoint = ModelCheckpoint(filepath, monitor='loss', verbose=1, save_best_only=True, mode='min')\n",
    "callbacks_list = [checkpoint]"
   ]
  },
  {
   "cell_type": "code",
   "execution_count": 13,
   "metadata": {},
   "outputs": [
    {
     "name": "stdout",
     "output_type": "stream",
     "text": [
      "Epoch 1/20\n",
      "163319/163319 [==============================] - 930s 6ms/step - loss: 2.9762\n",
      "\n",
      "Epoch 00001: loss improved from inf to 2.97618, saving model to C:/Users/hp/Desktop/Basic RNN/weights-improvement-01-2.9762.hdf5\n",
      "Epoch 2/20\n",
      "163319/163319 [==============================] - 1166s 7ms/step - loss: 2.7926\n",
      "\n",
      "Epoch 00002: loss improved from 2.97618 to 2.79256, saving model to C:/Users/hp/Desktop/Basic RNN/weights-improvement-02-2.7926.hdf5\n",
      "Epoch 3/20\n",
      "163319/163319 [==============================] - 965s 6ms/step - loss: 2.7117\n",
      "\n",
      "Epoch 00003: loss improved from 2.79256 to 2.71167, saving model to C:/Users/hp/Desktop/Basic RNN/weights-improvement-03-2.7117.hdf5\n",
      "Epoch 4/20\n",
      "163319/163319 [==============================] - 908s 6ms/step - loss: 2.6444\n",
      "\n",
      "Epoch 00004: loss improved from 2.71167 to 2.64443, saving model to C:/Users/hp/Desktop/Basic RNN/weights-improvement-04-2.6444.hdf5\n",
      "Epoch 5/20\n",
      "163319/163319 [==============================] - 920s 6ms/step - loss: 2.5934\n",
      "\n",
      "Epoch 00005: loss improved from 2.64443 to 2.59338, saving model to C:/Users/hp/Desktop/Basic RNN/weights-improvement-05-2.5934.hdf5\n",
      "Epoch 6/20\n",
      "163319/163319 [==============================] - 908s 6ms/step - loss: 2.5449\n",
      "\n",
      "Epoch 00006: loss improved from 2.59338 to 2.54493, saving model to C:/Users/hp/Desktop/Basic RNN/weights-improvement-06-2.5449.hdf5\n",
      "Epoch 7/20\n",
      "163319/163319 [==============================] - 940s 6ms/step - loss: 2.4937\n",
      "\n",
      "Epoch 00007: loss improved from 2.54493 to 2.49369, saving model to C:/Users/hp/Desktop/Basic RNN/weights-improvement-07-2.4937.hdf5\n",
      "Epoch 8/20\n",
      "163319/163319 [==============================] - 1354s 8ms/step - loss: 2.4499\n",
      "\n",
      "Epoch 00008: loss improved from 2.49369 to 2.44987, saving model to C:/Users/hp/Desktop/Basic RNN/weights-improvement-08-2.4499.hdf5\n",
      "Epoch 9/20\n",
      "163319/163319 [==============================] - 1326s 8ms/step - loss: 2.4104\n",
      "\n",
      "Epoch 00009: loss improved from 2.44987 to 2.41037, saving model to C:/Users/hp/Desktop/Basic RNN/weights-improvement-09-2.4104.hdf5\n",
      "Epoch 10/20\n",
      "163319/163319 [==============================] - 1167s 7ms/step - loss: 2.3718\n",
      "\n",
      "Epoch 00010: loss improved from 2.41037 to 2.37175, saving model to C:/Users/hp/Desktop/Basic RNN/weights-improvement-10-2.3718.hdf5\n",
      "Epoch 11/20\n",
      "163319/163319 [==============================] - 1098s 7ms/step - loss: 2.3379\n",
      "\n",
      "Epoch 00011: loss improved from 2.37175 to 2.33789, saving model to C:/Users/hp/Desktop/Basic RNN/weights-improvement-11-2.3379.hdf5\n",
      "Epoch 12/20\n",
      "163319/163319 [==============================] - 1046s 6ms/step - loss: 2.3019\n",
      "\n",
      "Epoch 00012: loss improved from 2.33789 to 2.30190, saving model to C:/Users/hp/Desktop/Basic RNN/weights-improvement-12-2.3019.hdf5\n",
      "Epoch 13/20\n",
      "163319/163319 [==============================] - 1042s 6ms/step - loss: 2.2704\n",
      "\n",
      "Epoch 00013: loss improved from 2.30190 to 2.27037, saving model to C:/Users/hp/Desktop/Basic RNN/weights-improvement-13-2.2704.hdf5\n",
      "Epoch 14/20\n",
      "163319/163319 [==============================] - 1042s 6ms/step - loss: 2.2397\n",
      "\n",
      "Epoch 00014: loss improved from 2.27037 to 2.23975, saving model to C:/Users/hp/Desktop/Basic RNN/weights-improvement-14-2.2397.hdf5\n",
      "Epoch 15/20\n",
      "163319/163319 [==============================] - 1039s 6ms/step - loss: 2.2103\n",
      "\n",
      "Epoch 00015: loss improved from 2.23975 to 2.21027, saving model to C:/Users/hp/Desktop/Basic RNN/weights-improvement-15-2.2103.hdf5\n",
      "Epoch 16/20\n",
      "163319/163319 [==============================] - 1037s 6ms/step - loss: 2.1802\n",
      "\n",
      "Epoch 00016: loss improved from 2.21027 to 2.18021, saving model to C:/Users/hp/Desktop/Basic RNN/weights-improvement-16-2.1802.hdf5\n",
      "Epoch 17/20\n",
      "163319/163319 [==============================] - 1039s 6ms/step - loss: 2.1523\n",
      "\n",
      "Epoch 00017: loss improved from 2.18021 to 2.15226, saving model to C:/Users/hp/Desktop/Basic RNN/weights-improvement-17-2.1523.hdf5\n",
      "Epoch 18/20\n",
      "163319/163319 [==============================] - 1040s 6ms/step - loss: 2.1286\n",
      "\n",
      "Epoch 00018: loss improved from 2.15226 to 2.12863, saving model to C:/Users/hp/Desktop/Basic RNN/weights-improvement-18-2.1286.hdf5\n",
      "Epoch 19/20\n",
      "163319/163319 [==============================] - 1048s 6ms/step - loss: 2.1055\n",
      "\n",
      "Epoch 00019: loss improved from 2.12863 to 2.10550, saving model to C:/Users/hp/Desktop/Basic RNN/weights-improvement-19-2.1055.hdf5\n",
      "Epoch 20/20\n",
      "163319/163319 [==============================] - 1069s 7ms/step - loss: 2.0773\n",
      "\n",
      "Epoch 00020: loss improved from 2.10550 to 2.07725, saving model to C:/Users/hp/Desktop/Basic RNN/weights-improvement-20-2.0773.hdf5\n"
     ]
    },
    {
     "data": {
      "text/plain": [
       "<keras.callbacks.callbacks.History at 0x26c29773da0>"
      ]
     },
     "execution_count": 13,
     "metadata": {},
     "output_type": "execute_result"
    }
   ],
   "source": [
    "model.fit(X, y, epochs=20, batch_size=128, callbacks=callbacks_list)"
   ]
  },
  {
   "cell_type": "code",
   "execution_count": 14,
   "metadata": {},
   "outputs": [],
   "source": [
    "filename = \"C:/Users/hp/Desktop/Basic RNN/weights-improvement-20-2.0773.hdf5\"\n",
    "model.load_weights(filename)\n",
    "model.compile(loss='categorical_crossentropy', optimizer='adam')"
   ]
  },
  {
   "cell_type": "code",
   "execution_count": 15,
   "metadata": {},
   "outputs": [],
   "source": [
    "int_to_char = dict((i, c) for i, c in enumerate(chars))"
   ]
  },
  {
   "cell_type": "code",
   "execution_count": 27,
   "metadata": {},
   "outputs": [
    {
     "name": "stdout",
     "output_type": "stream",
     "text": [
      "Sky is:\n",
      "\"  as a\n",
      "drawing of a muchness?'\n",
      "\n",
      "'really, now you ask me,' said alice, very much confused, 'i don't\n",
      "th \"\n",
      "ink it '\n",
      "she said to herself, 'and thet sere toe would be oo toen io the soie.'\n",
      "\n",
      "'what io toe toile \n",
      "Done.\n"
     ]
    }
   ],
   "source": [
    "import sys\n",
    "# pick a random seed\n",
    "start = numpy.random.randint(0, len(dataX)-1)\n",
    "pattern = dataX[start]\n",
    "print(\"Sky is:\")\n",
    "print (\"\\\"\", ''.join([int_to_char[value] for value in pattern]), \"\\\"\")\n",
    "# generate characters\n",
    "for i in range(100):\n",
    "\tx = numpy.reshape(pattern, (1, len(pattern), 1))\n",
    "\tx = x / float(n_vocab)\n",
    "\tprediction = model.predict(x, verbose=0)\n",
    "\tindex = numpy.argmax(prediction)\n",
    "\tresult = int_to_char[index]\n",
    "\tseq_in = [int_to_char[value] for value in pattern]\n",
    "\tsys.stdout.write(result)\n",
    "\tpattern.append(index)\n",
    "\tpattern = pattern[1:len(pattern)]\n",
    "print (\"\\nDone.\")"
   ]
  },
  {
   "cell_type": "code",
   "execution_count": null,
   "metadata": {},
   "outputs": [],
   "source": []
  }
 ],
 "metadata": {
  "kernelspec": {
   "display_name": "Python 3",
   "language": "python",
   "name": "python3"
  },
  "language_info": {
   "codemirror_mode": {
    "name": "ipython",
    "version": 3
   },
   "file_extension": ".py",
   "mimetype": "text/x-python",
   "name": "python",
   "nbconvert_exporter": "python",
   "pygments_lexer": "ipython3",
   "version": "3.7.3"
  }
 },
 "nbformat": 4,
 "nbformat_minor": 2
}
